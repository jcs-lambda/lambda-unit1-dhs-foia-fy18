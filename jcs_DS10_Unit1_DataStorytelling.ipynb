{
  "nbformat": 4,
  "nbformat_minor": 0,
  "metadata": {
    "colab": {
      "name": "jcs-DS10-Unit1-DataStorytelling.ipynb",
      "provenance": [],
      "collapsed_sections": [],
      "include_colab_link": true
    },
    "kernelspec": {
      "name": "python3",
      "display_name": "Python 3"
    }
  },
  "cells": [
    {
      "cell_type": "markdown",
      "metadata": {
        "id": "view-in-github",
        "colab_type": "text"
      },
      "source": [
        "<a href=\"https://colab.research.google.com/github/jcs-lambda/lambda-unit1-dhs-foia-fy18/blob/master/jcs_DS10_Unit1_DataStorytelling.ipynb\" target=\"_parent\"><img src=\"https://colab.research.google.com/assets/colab-badge.svg\" alt=\"Open In Colab\"/></a>"
      ]
    },
    {
      "cell_type": "code",
      "metadata": {
        "id": "CyNLkk_9cCiI",
        "colab_type": "code",
        "cellView": "form",
        "colab": {}
      },
      "source": [
        "#@title Imports and initial setup\n",
        "%matplotlib inline\n",
        "import pandas as pd\n",
        "import numpy as np\n",
        "import matplotlib.pyplot as plt\n",
        "import scipy.stats as stats\n",
        "import requests\n",
        "from bs4 import BeautifulSoup as bs4\n",
        "\n",
        "plt.style.use('ggplot')"
      ],
      "execution_count": 0,
      "outputs": []
    },
    {
      "cell_type": "markdown",
      "metadata": {
        "id": "J_xVnuvU65dv",
        "colab_type": "text"
      },
      "source": [
        "# Obtain the data\n",
        "\n",
        "[FOIA Annual Reports | Homeland Security](https://www.dhs.gov/foia-annual-reports)\n",
        "\n",
        "- [Cybersecurity and Infrastructure Security Agency](https://www.dhs.gov/sites/default/files/publications/CISA%20FY18%20Raw%20Data%20Template_0.xlsx)\n",
        "- [Federal Emergency Management Agency](https://www.dhs.gov/sites/default/files/publications/FEMA%20FY18%20Raw%20Data%20Template.xlsx)\n",
        "- [Federal Law Enforcement Training Centers](https://www.dhs.gov/sites/default/files/publications/FLETC%20FY18%20RAW%20DATA%20Template.xlsx)\n",
        " - did not use this one because I couldn't open the file in Google Sheets to see how to extract the data\n",
        "- [Office of Intelligence and Analysis](https://www.dhs.gov/sites/default/files/publications/I%26A%20FY18%20Raw%20Data%20Template.xlsx)\n",
        "- [U.S. Immigration and Customs Enforcement](https://www.dhs.gov/sites/default/files/publications/ICE%20FY18%20Raw%20Data%20Template.xlsx)\n",
        "- [Office of Inspector General](https://www.dhs.gov/sites/default/files/publications/OIG%20FY18%20Raw%20Data%20Template.xlsx)\n",
        "- [Privacy Office](https://www.dhs.gov/sites/default/files/publications/PRIV%20FY18%20Raw%20Data%20Template.xlsx)\n",
        "- [Science and Technology Directorate](https://www.dhs.gov/sites/default/files/publications/S%26T%20FY18%20Raw%20Data%20Template.xlsx)\n",
        "- [Transportation Security Administration](https://www.dhs.gov/sites/default/files/publications/TSA%20FY18%20Raw%20Data%20Template.xlsx)\n",
        "- [United States Coast Guard](https://www.dhs.gov/sites/default/files/publications/USCG%20FY18%20Raw%20Data%20Template.xlsx)\n",
        "- [United States Secret Service](https://www.dhs.gov/sites/default/files/publications/USSS%20FY18%20Raw%20Data%20Template.xlsx)"
      ]
    },
    {
      "cell_type": "code",
      "metadata": {
        "id": "A8deK31MhgYr",
        "colab_type": "code",
        "colab": {}
      },
      "source": [
        "agencies = {\n",
        "    'CISA':'Cybersecurity and Infrastructure Security Agency',\n",
        "    'FEMA':'Federal Emergency Management Agency',\n",
        "    'FLETC':'Federal Law Enforcement Training Centers',\n",
        "    'I&A':'Office of Intelligence and Analysis',\n",
        "    'ICE':'U.S. Immigration and Customs Enforcement',\n",
        "    'OIG':'Office of Inspector General',\n",
        "    'PRIV':'Privacy Office',\n",
        "    'S&T':'Science and Technology Directorate',\n",
        "    'TSA':'Transportation Security Administration',\n",
        "    'USCG':'United States Coast Guard',\n",
        "    'USSS':'United States Secret Service'\n",
        "}"
      ],
      "execution_count": 0,
      "outputs": []
    },
    {
      "cell_type": "code",
      "metadata": {
        "id": "lwK4JjN9cQf2",
        "colab_type": "code",
        "colab": {}
      },
      "source": [
        "page_to_scrape = 'https://www.dhs.gov/foia-annual-reports'\n",
        "\n",
        "page = requests.get(page_to_scrape)\n",
        "soup = bs4(page.text, 'html.parser')"
      ],
      "execution_count": 0,
      "outputs": []
    },
    {
      "cell_type": "code",
      "metadata": {
        "id": "fjYceu9Mca5s",
        "colab_type": "code",
        "colab": {}
      },
      "source": [
        "# only find the links that cover fiscal year 2018 that were submitted in the 'Template' format\n",
        "# skip 'FLETC' because that spreadsheet was unable to be opened by Google Sheets\n",
        "def href_parser(href):\n",
        "  return 'FY18' in href and 'Template' in href and href.endswith('.xlsx') and not 'FLETC' in href\n",
        "\n",
        "# links will be a dictionary with agency abbreviations as keys and the url to their data as the value\n",
        "links = {}\n",
        "for link in soup.find_all(name='a', attrs={'href':href_parser}):\n",
        "  href = link.get('href')\n",
        "  agency = href.split('/')[-1].split('%20')[0]\n",
        "  agency = agency.replace('%26', '&')\n",
        "  links[agency] = href"
      ],
      "execution_count": 0,
      "outputs": []
    },
    {
      "cell_type": "code",
      "metadata": {
        "id": "eVlhx2BjczAq",
        "colab_type": "code",
        "outputId": "5ca678ef-7f86-4a9c-e9d2-9ceb1c537b1f",
        "colab": {
          "base_uri": "https://localhost:8080/",
          "height": 181
        }
      },
      "source": [
        "# dataframes will be a dictionary with the agency abbreviations as keys and the imported dataframes as the values\n",
        "# 'USSS' spreadsheet has several empty rows at the end and will need to handled separately\n",
        "dataframes = {}\n",
        "for agency, url in links.items():\n",
        "  print(agency, url)\n",
        "  if agency == 'USSS':\n",
        "    dataframes[agency] = pd.read_excel(url, sheet_name='Raw Data Requests', header=0, index_col=0, usecols='A:C,H:J,L:P,R', skiprows=[1], nrows=2716, parse_dates=True)\n",
        "  else:\n",
        "    dataframes[agency] = pd.read_excel(url, sheet_name='Raw Data Requests', header=0, index_col=0, usecols='A:C,H:J,L:P,R', skiprows=[1], parse_dates=True)"
      ],
      "execution_count": 87,
      "outputs": [
        {
          "output_type": "stream",
          "text": [
            "CISA https://www.dhs.gov/sites/default/files/publications/CISA%20FY18%20Raw%20Data%20Template_0.xlsx\n",
            "FEMA https://www.dhs.gov/sites/default/files/publications/FEMA%20FY18%20Raw%20Data%20Template.xlsx\n",
            "I&A https://www.dhs.gov/sites/default/files/publications/I%26A%20FY18%20Raw%20Data%20Template.xlsx\n",
            "ICE https://www.dhs.gov/sites/default/files/publications/ICE%20FY18%20Raw%20Data%20Template.xlsx\n",
            "OIG https://www.dhs.gov/sites/default/files/publications/OIG%20FY18%20Raw%20Data%20Template.xlsx\n",
            "PRIV https://www.dhs.gov/sites/default/files/publications/PRIV%20FY18%20Raw%20Data%20Template.xlsx\n",
            "S&T https://www.dhs.gov/sites/default/files/publications/S%26T%20FY18%20Raw%20Data%20Template.xlsx\n",
            "TSA https://www.dhs.gov/sites/default/files/publications/TSA%20FY18%20Raw%20Data%20Template.xlsx\n",
            "USCG https://www.dhs.gov/sites/default/files/publications/USCG%20FY18%20Raw%20Data%20Template.xlsx\n",
            "USSS https://www.dhs.gov/sites/default/files/publications/USSS%20FY18%20Raw%20Data%20Template.xlsx\n"
          ],
          "name": "stdout"
        }
      ]
    },
    {
      "cell_type": "code",
      "metadata": {
        "id": "2keagMecdSQ4",
        "colab_type": "code",
        "outputId": "2037e8b3-6a28-409d-a149-1e40fa1d3dbe",
        "colab": {
          "base_uri": "https://localhost:8080/",
          "height": 574
        }
      },
      "source": [
        "df = pd.concat(dataframes, names=['Agency']).reset_index(level=['Agency'])\n",
        "print(f'Unique indexes: {len(df.index.unique())}')\n",
        "print(f'DataFrame shape: {df.shape}')\n",
        "df"
      ],
      "execution_count": 88,
      "outputs": [
        {
          "output_type": "stream",
          "text": [
            "Unique indexes: 125143\n",
            "DataFrame shape: (125143, 12)\n"
          ],
          "name": "stdout"
        },
        {
          "output_type": "execute_result",
          "data": {
            "text/html": [
              "<div>\n",
              "<style scoped>\n",
              "    .dataframe tbody tr th:only-of-type {\n",
              "        vertical-align: middle;\n",
              "    }\n",
              "\n",
              "    .dataframe tbody tr th {\n",
              "        vertical-align: top;\n",
              "    }\n",
              "\n",
              "    .dataframe thead th {\n",
              "        text-align: right;\n",
              "    }\n",
              "</style>\n",
              "<table border=\"1\" class=\"dataframe\">\n",
              "  <thead>\n",
              "    <tr style=\"text-align: right;\">\n",
              "      <th></th>\n",
              "      <th>Agency</th>\n",
              "      <th>Initial Request Type</th>\n",
              "      <th>Track Type</th>\n",
              "      <th>Initial Received Date</th>\n",
              "      <th>Perfected</th>\n",
              "      <th>Case Status</th>\n",
              "      <th>Days Opened</th>\n",
              "      <th>Closed Date</th>\n",
              "      <th>Days to Process</th>\n",
              "      <th>Disposition</th>\n",
              "      <th>Disposition \"Other\" Reason</th>\n",
              "      <th>Exemptions Used</th>\n",
              "    </tr>\n",
              "    <tr>\n",
              "      <th>Request #</th>\n",
              "      <th></th>\n",
              "      <th></th>\n",
              "      <th></th>\n",
              "      <th></th>\n",
              "      <th></th>\n",
              "      <th></th>\n",
              "      <th></th>\n",
              "      <th></th>\n",
              "      <th></th>\n",
              "      <th></th>\n",
              "      <th></th>\n",
              "      <th></th>\n",
              "    </tr>\n",
              "  </thead>\n",
              "  <tbody>\n",
              "    <tr>\n",
              "      <th>2017-OBFO-02364</th>\n",
              "      <td>CISA</td>\n",
              "      <td>OBIM FOIA</td>\n",
              "      <td>Complex</td>\n",
              "      <td>2016-11-04</td>\n",
              "      <td>NaT</td>\n",
              "      <td>Open</td>\n",
              "      <td>NaN</td>\n",
              "      <td>NaT</td>\n",
              "      <td>NaN</td>\n",
              "      <td>NaN</td>\n",
              "      <td>NaN</td>\n",
              "      <td>NaN</td>\n",
              "    </tr>\n",
              "    <tr>\n",
              "      <th>2017-OBFO-03060</th>\n",
              "      <td>CISA</td>\n",
              "      <td>OBIM FOIA</td>\n",
              "      <td>Complex</td>\n",
              "      <td>2016-10-21</td>\n",
              "      <td>NaT</td>\n",
              "      <td>Open</td>\n",
              "      <td>NaN</td>\n",
              "      <td>NaT</td>\n",
              "      <td>NaN</td>\n",
              "      <td>NaN</td>\n",
              "      <td>NaN</td>\n",
              "      <td>NaN</td>\n",
              "    </tr>\n",
              "    <tr>\n",
              "      <th>2017-OBFO-03260</th>\n",
              "      <td>CISA</td>\n",
              "      <td>OBIM FOIA</td>\n",
              "      <td>Simple</td>\n",
              "      <td>2016-11-28</td>\n",
              "      <td>NaT</td>\n",
              "      <td>Closed</td>\n",
              "      <td>NaN</td>\n",
              "      <td>2018-01-29</td>\n",
              "      <td>NaN</td>\n",
              "      <td>Other Reasons</td>\n",
              "      <td>NaN</td>\n",
              "      <td>NaN</td>\n",
              "    </tr>\n",
              "    <tr>\n",
              "      <th>2017-OBFO-03857</th>\n",
              "      <td>CISA</td>\n",
              "      <td>OBIM FOIA</td>\n",
              "      <td>Complex</td>\n",
              "      <td>2016-12-07</td>\n",
              "      <td>NaT</td>\n",
              "      <td>Closed</td>\n",
              "      <td>NaN</td>\n",
              "      <td>2017-10-23</td>\n",
              "      <td>NaN</td>\n",
              "      <td>Granted/Denied in Part</td>\n",
              "      <td>(b)(6),(b)(7)(C),(b)(7)(E),(k)(2)</td>\n",
              "      <td>NaN</td>\n",
              "    </tr>\n",
              "    <tr>\n",
              "      <th>2017-OBFO-02413</th>\n",
              "      <td>CISA</td>\n",
              "      <td>OBIM FOIA</td>\n",
              "      <td>Complex</td>\n",
              "      <td>2016-11-03</td>\n",
              "      <td>NaT</td>\n",
              "      <td>Open</td>\n",
              "      <td>NaN</td>\n",
              "      <td>NaT</td>\n",
              "      <td>NaN</td>\n",
              "      <td>NaN</td>\n",
              "      <td>NaN</td>\n",
              "      <td>NaN</td>\n",
              "    </tr>\n",
              "    <tr>\n",
              "      <th>...</th>\n",
              "      <td>...</td>\n",
              "      <td>...</td>\n",
              "      <td>...</td>\n",
              "      <td>...</td>\n",
              "      <td>...</td>\n",
              "      <td>...</td>\n",
              "      <td>...</td>\n",
              "      <td>...</td>\n",
              "      <td>...</td>\n",
              "      <td>...</td>\n",
              "      <td>...</td>\n",
              "      <td>...</td>\n",
              "    </tr>\n",
              "    <tr>\n",
              "      <th>20181461</th>\n",
              "      <td>USSS</td>\n",
              "      <td>FOIA</td>\n",
              "      <td>Simple</td>\n",
              "      <td>2018-09-24</td>\n",
              "      <td>2018-09-24</td>\n",
              "      <td>Open</td>\n",
              "      <td>4.0</td>\n",
              "      <td>NaT</td>\n",
              "      <td>NaN</td>\n",
              "      <td>NaN</td>\n",
              "      <td>NaN</td>\n",
              "      <td>NaN</td>\n",
              "    </tr>\n",
              "    <tr>\n",
              "      <th>20181462</th>\n",
              "      <td>USSS</td>\n",
              "      <td>FOIA/PA</td>\n",
              "      <td>Simple</td>\n",
              "      <td>2018-09-24</td>\n",
              "      <td>2018-09-24</td>\n",
              "      <td>Open</td>\n",
              "      <td>4.0</td>\n",
              "      <td>NaT</td>\n",
              "      <td>NaN</td>\n",
              "      <td>NaN</td>\n",
              "      <td>NaN</td>\n",
              "      <td>NaN</td>\n",
              "    </tr>\n",
              "    <tr>\n",
              "      <th>20181463</th>\n",
              "      <td>USSS</td>\n",
              "      <td>FOIA/PA</td>\n",
              "      <td>Simple</td>\n",
              "      <td>2018-09-27</td>\n",
              "      <td>2018-09-27</td>\n",
              "      <td>Open</td>\n",
              "      <td>1.0</td>\n",
              "      <td>NaT</td>\n",
              "      <td>NaN</td>\n",
              "      <td>NaN</td>\n",
              "      <td>NaN</td>\n",
              "      <td>NaN</td>\n",
              "    </tr>\n",
              "    <tr>\n",
              "      <th>20181464</th>\n",
              "      <td>USSS</td>\n",
              "      <td>FOIA/PA</td>\n",
              "      <td>Simple</td>\n",
              "      <td>2018-09-27</td>\n",
              "      <td>2018-09-27</td>\n",
              "      <td>Open</td>\n",
              "      <td>1.0</td>\n",
              "      <td>NaT</td>\n",
              "      <td>NaN</td>\n",
              "      <td>NaN</td>\n",
              "      <td>NaN</td>\n",
              "      <td>NaN</td>\n",
              "    </tr>\n",
              "    <tr>\n",
              "      <th>20181465</th>\n",
              "      <td>USSS</td>\n",
              "      <td>FOIA</td>\n",
              "      <td>Simple</td>\n",
              "      <td>2018-09-27</td>\n",
              "      <td>2018-09-27</td>\n",
              "      <td>Open</td>\n",
              "      <td>1.0</td>\n",
              "      <td>NaT</td>\n",
              "      <td>NaN</td>\n",
              "      <td>NaN</td>\n",
              "      <td>NaN</td>\n",
              "      <td>NaN</td>\n",
              "    </tr>\n",
              "  </tbody>\n",
              "</table>\n",
              "<p>125143 rows × 12 columns</p>\n",
              "</div>"
            ],
            "text/plain": [
              "                Agency  ... Exemptions Used\n",
              "Request #               ...                \n",
              "2017-OBFO-02364   CISA  ...             NaN\n",
              "2017-OBFO-03060   CISA  ...             NaN\n",
              "2017-OBFO-03260   CISA  ...             NaN\n",
              "2017-OBFO-03857   CISA  ...             NaN\n",
              "2017-OBFO-02413   CISA  ...             NaN\n",
              "...                ...  ...             ...\n",
              "20181461          USSS  ...             NaN\n",
              "20181462          USSS  ...             NaN\n",
              "20181463          USSS  ...             NaN\n",
              "20181464          USSS  ...             NaN\n",
              "20181465          USSS  ...             NaN\n",
              "\n",
              "[125143 rows x 12 columns]"
            ]
          },
          "metadata": {
            "tags": []
          },
          "execution_count": 88
        }
      ]
    },
    {
      "cell_type": "markdown",
      "metadata": {
        "id": "I2d7cwvc8zI8",
        "colab_type": "text"
      },
      "source": [
        "# Explore the data"
      ]
    },
    {
      "cell_type": "markdown",
      "metadata": {
        "id": "PiTqfamHHtVD",
        "colab_type": "text"
      },
      "source": [
        "## Quick overview"
      ]
    },
    {
      "cell_type": "code",
      "metadata": {
        "id": "2yU5z-BwgPjX",
        "colab_type": "code",
        "outputId": "b7979e93-5377-4e01-d7d6-37a63a055979",
        "colab": {
          "base_uri": "https://localhost:8080/",
          "height": 230
        }
      },
      "source": [
        "df.isnull().sum()"
      ],
      "execution_count": 89,
      "outputs": [
        {
          "output_type": "execute_result",
          "data": {
            "text/plain": [
              "Agency                             0\n",
              "Initial Request Type               0\n",
              "Track Type                         0\n",
              "Initial Received Date              0\n",
              "Perfected                     117597\n",
              "Case Status                        0\n",
              "Days Opened                    46990\n",
              "Closed Date                     9250\n",
              "Days to Process               118760\n",
              "Disposition                     8653\n",
              "Disposition \"Other\" Reason     89044\n",
              "Exemptions Used                62050\n",
              "dtype: int64"
            ]
          },
          "metadata": {
            "tags": []
          },
          "execution_count": 89
        }
      ]
    },
    {
      "cell_type": "code",
      "metadata": {
        "id": "w0FVEo7qgcJd",
        "colab_type": "code",
        "outputId": "40690dc0-2ce1-44e6-e47d-d91d64fa2fbe",
        "colab": {
          "base_uri": "https://localhost:8080/",
          "height": 230
        }
      },
      "source": [
        "df.dtypes"
      ],
      "execution_count": 90,
      "outputs": [
        {
          "output_type": "execute_result",
          "data": {
            "text/plain": [
              "Agency                                object\n",
              "Initial Request Type                  object\n",
              "Track Type                            object\n",
              "Initial Received Date         datetime64[ns]\n",
              "Perfected                     datetime64[ns]\n",
              "Case Status                           object\n",
              "Days Opened                          float64\n",
              "Closed Date                   datetime64[ns]\n",
              "Days to Process                      float64\n",
              "Disposition                           object\n",
              "Disposition \"Other\" Reason            object\n",
              "Exemptions Used                       object\n",
              "dtype: object"
            ]
          },
          "metadata": {
            "tags": []
          },
          "execution_count": 90
        }
      ]
    },
    {
      "cell_type": "code",
      "metadata": {
        "id": "NZWWwoMigQ1B",
        "colab_type": "code",
        "outputId": "73f1bcc3-69de-4222-da92-c247d1d877e8",
        "colab": {
          "base_uri": "https://localhost:8080/",
          "height": 291
        }
      },
      "source": [
        "df.describe()"
      ],
      "execution_count": 91,
      "outputs": [
        {
          "output_type": "execute_result",
          "data": {
            "text/html": [
              "<div>\n",
              "<style scoped>\n",
              "    .dataframe tbody tr th:only-of-type {\n",
              "        vertical-align: middle;\n",
              "    }\n",
              "\n",
              "    .dataframe tbody tr th {\n",
              "        vertical-align: top;\n",
              "    }\n",
              "\n",
              "    .dataframe thead th {\n",
              "        text-align: right;\n",
              "    }\n",
              "</style>\n",
              "<table border=\"1\" class=\"dataframe\">\n",
              "  <thead>\n",
              "    <tr style=\"text-align: right;\">\n",
              "      <th></th>\n",
              "      <th>Days Opened</th>\n",
              "      <th>Days to Process</th>\n",
              "    </tr>\n",
              "  </thead>\n",
              "  <tbody>\n",
              "    <tr>\n",
              "      <th>count</th>\n",
              "      <td>78153.000000</td>\n",
              "      <td>6383.000000</td>\n",
              "    </tr>\n",
              "    <tr>\n",
              "      <th>mean</th>\n",
              "      <td>26.449631</td>\n",
              "      <td>95.782704</td>\n",
              "    </tr>\n",
              "    <tr>\n",
              "      <th>std</th>\n",
              "      <td>99.160567</td>\n",
              "      <td>181.307761</td>\n",
              "    </tr>\n",
              "    <tr>\n",
              "      <th>min</th>\n",
              "      <td>-8.000000</td>\n",
              "      <td>0.000000</td>\n",
              "    </tr>\n",
              "    <tr>\n",
              "      <th>25%</th>\n",
              "      <td>1.000000</td>\n",
              "      <td>1.000000</td>\n",
              "    </tr>\n",
              "    <tr>\n",
              "      <th>50%</th>\n",
              "      <td>2.000000</td>\n",
              "      <td>25.000000</td>\n",
              "    </tr>\n",
              "    <tr>\n",
              "      <th>75%</th>\n",
              "      <td>8.000000</td>\n",
              "      <td>105.500000</td>\n",
              "    </tr>\n",
              "    <tr>\n",
              "      <th>max</th>\n",
              "      <td>1631.000000</td>\n",
              "      <td>1593.000000</td>\n",
              "    </tr>\n",
              "  </tbody>\n",
              "</table>\n",
              "</div>"
            ],
            "text/plain": [
              "        Days Opened  Days to Process\n",
              "count  78153.000000      6383.000000\n",
              "mean      26.449631        95.782704\n",
              "std       99.160567       181.307761\n",
              "min       -8.000000         0.000000\n",
              "25%        1.000000         1.000000\n",
              "50%        2.000000        25.000000\n",
              "75%        8.000000       105.500000\n",
              "max     1631.000000      1593.000000"
            ]
          },
          "metadata": {
            "tags": []
          },
          "execution_count": 91
        }
      ]
    },
    {
      "cell_type": "code",
      "metadata": {
        "id": "FjGsgRnOgas6",
        "colab_type": "code",
        "outputId": "7c70ee0a-0d03-4c3a-9c20-61c621d7e285",
        "colab": {
          "base_uri": "https://localhost:8080/",
          "height": 231
        }
      },
      "source": [
        "df.describe(exclude='number')"
      ],
      "execution_count": 92,
      "outputs": [
        {
          "output_type": "execute_result",
          "data": {
            "text/html": [
              "<div>\n",
              "<style scoped>\n",
              "    .dataframe tbody tr th:only-of-type {\n",
              "        vertical-align: middle;\n",
              "    }\n",
              "\n",
              "    .dataframe tbody tr th {\n",
              "        vertical-align: top;\n",
              "    }\n",
              "\n",
              "    .dataframe thead th {\n",
              "        text-align: right;\n",
              "    }\n",
              "</style>\n",
              "<table border=\"1\" class=\"dataframe\">\n",
              "  <thead>\n",
              "    <tr style=\"text-align: right;\">\n",
              "      <th></th>\n",
              "      <th>Agency</th>\n",
              "      <th>Initial Request Type</th>\n",
              "      <th>Track Type</th>\n",
              "      <th>Initial Received Date</th>\n",
              "      <th>Perfected</th>\n",
              "      <th>Case Status</th>\n",
              "      <th>Closed Date</th>\n",
              "      <th>Disposition</th>\n",
              "      <th>Disposition \"Other\" Reason</th>\n",
              "      <th>Exemptions Used</th>\n",
              "    </tr>\n",
              "  </thead>\n",
              "  <tbody>\n",
              "    <tr>\n",
              "      <th>count</th>\n",
              "      <td>125143</td>\n",
              "      <td>125143</td>\n",
              "      <td>125143</td>\n",
              "      <td>125143</td>\n",
              "      <td>7546</td>\n",
              "      <td>125143</td>\n",
              "      <td>115893</td>\n",
              "      <td>116490</td>\n",
              "      <td>36099</td>\n",
              "      <td>63093</td>\n",
              "    </tr>\n",
              "    <tr>\n",
              "      <th>unique</th>\n",
              "      <td>10</td>\n",
              "      <td>27</td>\n",
              "      <td>5</td>\n",
              "      <td>1401</td>\n",
              "      <td>979</td>\n",
              "      <td>7</td>\n",
              "      <td>370</td>\n",
              "      <td>6</td>\n",
              "      <td>138</td>\n",
              "      <td>461</td>\n",
              "    </tr>\n",
              "    <tr>\n",
              "      <th>top</th>\n",
              "      <td>ICE</td>\n",
              "      <td>ICE FOIA</td>\n",
              "      <td>Simple</td>\n",
              "      <td>2018-09-26 00:00:00</td>\n",
              "      <td>2018-05-22 00:00:00</td>\n",
              "      <td>Closed</td>\n",
              "      <td>2018-09-28 00:00:00</td>\n",
              "      <td>Granted/Denied in Part</td>\n",
              "      <td>(b)(6),(b)(7)(C),(b)(7)(E)</td>\n",
              "      <td>(b)(6),(b)(7)(C),(b)(7)(E)</td>\n",
              "    </tr>\n",
              "    <tr>\n",
              "      <th>freq</th>\n",
              "      <td>71199</td>\n",
              "      <td>70993</td>\n",
              "      <td>83438</td>\n",
              "      <td>1267</td>\n",
              "      <td>79</td>\n",
              "      <td>113617</td>\n",
              "      <td>1492</td>\n",
              "      <td>87013</td>\n",
              "      <td>18256</td>\n",
              "      <td>34919</td>\n",
              "    </tr>\n",
              "    <tr>\n",
              "      <th>first</th>\n",
              "      <td>NaN</td>\n",
              "      <td>NaN</td>\n",
              "      <td>NaN</td>\n",
              "      <td>2011-06-15 00:00:00</td>\n",
              "      <td>2011-12-02 00:00:00</td>\n",
              "      <td>NaN</td>\n",
              "      <td>2017-10-01 00:00:00</td>\n",
              "      <td>NaN</td>\n",
              "      <td>NaN</td>\n",
              "      <td>NaN</td>\n",
              "    </tr>\n",
              "    <tr>\n",
              "      <th>last</th>\n",
              "      <td>NaN</td>\n",
              "      <td>NaN</td>\n",
              "      <td>NaN</td>\n",
              "      <td>2018-09-30 00:00:00</td>\n",
              "      <td>2018-09-28 00:00:00</td>\n",
              "      <td>NaN</td>\n",
              "      <td>2018-10-24 00:00:00</td>\n",
              "      <td>NaN</td>\n",
              "      <td>NaN</td>\n",
              "      <td>NaN</td>\n",
              "    </tr>\n",
              "  </tbody>\n",
              "</table>\n",
              "</div>"
            ],
            "text/plain": [
              "        Agency  ...             Exemptions Used\n",
              "count   125143  ...                       63093\n",
              "unique      10  ...                         461\n",
              "top        ICE  ...  (b)(6),(b)(7)(C),(b)(7)(E)\n",
              "freq     71199  ...                       34919\n",
              "first      NaN  ...                         NaN\n",
              "last       NaN  ...                         NaN\n",
              "\n",
              "[6 rows x 10 columns]"
            ]
          },
          "metadata": {
            "tags": []
          },
          "execution_count": 92
        }
      ]
    },
    {
      "cell_type": "markdown",
      "metadata": {
        "id": "R7ymQDi9Dy7z",
        "colab_type": "text"
      },
      "source": [
        "## Reduce the number of categories for some of the categorical data"
      ]
    },
    {
      "cell_type": "markdown",
      "metadata": {
        "id": "VbveYk5DEKDt",
        "colab_type": "text"
      },
      "source": [
        "Make a 'working copy' of the data for cleaning."
      ]
    },
    {
      "cell_type": "code",
      "metadata": {
        "id": "eb-QFkNw1mdJ",
        "colab_type": "code",
        "colab": {}
      },
      "source": [
        "df2 = df.copy()"
      ],
      "execution_count": 0,
      "outputs": []
    },
    {
      "cell_type": "markdown",
      "metadata": {
        "id": "5YlLayCAUO1E",
        "colab_type": "text"
      },
      "source": [
        "Check what there is to work with for categories with a 'collapseable' amount of unique values."
      ]
    },
    {
      "cell_type": "code",
      "metadata": {
        "id": "u01dzNIvqFWR",
        "colab_type": "code",
        "outputId": "bde9ce65-9a9f-43c9-b1dc-d0a49cab0d85",
        "colab": {
          "base_uri": "https://localhost:8080/",
          "height": 1000
        }
      },
      "source": [
        "for column in df2.columns:\n",
        "  if df2[column].dtype.name == 'object' and len(df2[column].unique()) < 30:\n",
        "    print(df2[column].value_counts())\n",
        "    print()"
      ],
      "execution_count": 117,
      "outputs": [
        {
          "output_type": "stream",
          "text": [
            "ICE     71199\n",
            "CISA    40183\n",
            "USCG     4562\n",
            "USSS     2716\n",
            "PRIV     2081\n",
            "TSA      1729\n",
            "FEMA     1678\n",
            "OIG       426\n",
            "I&A       364\n",
            "S&T       205\n",
            "Name: Agency, dtype: int64\n",
            "\n",
            "ICE FOIA                70993\n",
            "OBIM FOIA               39232\n",
            "USCG FOIA                4403\n",
            "HQ FOIA                  2021\n",
            "FEMA FOIA                1658\n",
            "FOIA                     1446\n",
            "FOIA/PA                  1151\n",
            "TSA FOIA                 1123\n",
            "NPPD FOIA                 902\n",
            "TSA Privacy Act           580\n",
            "Initial Request           351\n",
            "OIG FOIA                  307\n",
            "ICE Consult               206\n",
            "ST FOIA                   199\n",
            "Consultation              119\n",
            "OIG Privacy Act           106\n",
            "USCG Privacy Act           97\n",
            "USCG Consult               62\n",
            "HQ Consult                 60\n",
            "OBIM Consult               28\n",
            "TSA Consult                26\n",
            "NPPD Consult               20\n",
            "FEMA Consult               20\n",
            "OIG Consult                13\n",
            "Initial Consultation       13\n",
            "ST Consult                  6\n",
            "NPPD Privacy Act            1\n",
            "Name: Initial Request Type, dtype: int64\n",
            "\n",
            "Simple       83438\n",
            "Complex      41161\n",
            "Expedite       526\n",
            "Expedited       17\n",
            "SImple           1\n",
            "Name: Track Type, dtype: int64\n",
            "\n",
            "Closed                             113617\n",
            "Open                                10590\n",
            "On Hold-Need Info/Clarification       433\n",
            "open                                  340\n",
            "On Hold-Other                         141\n",
            "closed                                 11\n",
            "On Hold-Fee Related                    11\n",
            "Name: Case Status, dtype: int64\n",
            "\n",
            "Granted/Denied in Part    87013\n",
            "Other Reasons             22986\n",
            "Granted in Full            4722\n",
            "Denied in Full             1767\n",
            "upheld                        1\n",
            "Partial Denial                1\n",
            "Name: Disposition, dtype: int64\n",
            "\n"
          ],
          "name": "stdout"
        }
      ]
    },
    {
      "cell_type": "markdown",
      "metadata": {
        "id": "vdh2zR4_EV-g",
        "colab_type": "text"
      },
      "source": [
        "**Disposition**\n",
        " - Group similar dispositions\n",
        " - Fill NaNs with 'Unknown'."
      ]
    },
    {
      "cell_type": "code",
      "metadata": {
        "id": "fVXTu9RzF5yl",
        "colab_type": "code",
        "outputId": "4d6e612e-30e0-4403-e311-3f7c519b63b2",
        "colab": {
          "base_uri": "https://localhost:8080/",
          "height": 49
        }
      },
      "source": [
        "df2['Disposition'].unique()"
      ],
      "execution_count": 95,
      "outputs": [
        {
          "output_type": "execute_result",
          "data": {
            "text/plain": [
              "array([nan, 'Other Reasons', 'Granted/Denied in Part', 'Granted in Full',\n",
              "       'Denied in Full', 'upheld', 'Partial Denial '], dtype=object)"
            ]
          },
          "metadata": {
            "tags": []
          },
          "execution_count": 95
        }
      ]
    },
    {
      "cell_type": "code",
      "metadata": {
        "id": "hgnzKKV_F5kN",
        "colab_type": "code",
        "outputId": "2a6d5442-a4cb-427b-ee0e-b4e8bafe01f7",
        "colab": {
          "base_uri": "https://localhost:8080/",
          "height": 115
        }
      },
      "source": [
        "df2['Disposition'] = df2['Disposition'].replace({'Partial Denial ':'Granted/Denied in Part', 'upheld':'Unknown'})\n",
        "df2['Disposition'] = df2['Disposition'].fillna('Unknown')\n",
        "df2['Disposition'].value_counts()"
      ],
      "execution_count": 96,
      "outputs": [
        {
          "output_type": "execute_result",
          "data": {
            "text/plain": [
              "Granted/Denied in Part    87014\n",
              "Other Reasons             22986\n",
              "Unknown                    8654\n",
              "Granted in Full            4722\n",
              "Denied in Full             1767\n",
              "Name: Disposition, dtype: int64"
            ]
          },
          "metadata": {
            "tags": []
          },
          "execution_count": 96
        }
      ]
    },
    {
      "cell_type": "markdown",
      "metadata": {
        "id": "ML0bgszPEpdC",
        "colab_type": "text"
      },
      "source": [
        "**Case Status**\n",
        " - Collapse all 'On Hold' statuses into one.\n",
        " - Fix capitalization."
      ]
    },
    {
      "cell_type": "code",
      "metadata": {
        "id": "Vct70qoIr5Sn",
        "colab_type": "code",
        "outputId": "96e0aa8f-e99a-4622-8cfa-a1c54945706d",
        "colab": {
          "base_uri": "https://localhost:8080/",
          "height": 65
        }
      },
      "source": [
        "df2['Case Status'].unique()"
      ],
      "execution_count": 97,
      "outputs": [
        {
          "output_type": "execute_result",
          "data": {
            "text/plain": [
              "array(['Open', 'Closed', 'On Hold-Need Info/Clarification',\n",
              "       'On Hold-Other', 'On Hold-Fee Related', 'open ', 'closed'],\n",
              "      dtype=object)"
            ]
          },
          "metadata": {
            "tags": []
          },
          "execution_count": 97
        }
      ]
    },
    {
      "cell_type": "code",
      "metadata": {
        "id": "EkIhmTofsZK9",
        "colab_type": "code",
        "outputId": "771332da-8e4d-4ff4-851a-050b417c0eff",
        "colab": {
          "base_uri": "https://localhost:8080/",
          "height": 82
        }
      },
      "source": [
        "df2['Case Status'] = df2['Case Status'].replace({'closed':'Closed', 'open ':'Open'})\n",
        "df2['Case Status'] = df2['Case Status'].str.replace('^On Hold.*', 'On Hold')\n",
        "df2['Case Status'].value_counts()"
      ],
      "execution_count": 98,
      "outputs": [
        {
          "output_type": "execute_result",
          "data": {
            "text/plain": [
              "Closed     113628\n",
              "Open        10930\n",
              "On Hold       585\n",
              "Name: Case Status, dtype: int64"
            ]
          },
          "metadata": {
            "tags": []
          },
          "execution_count": 98
        }
      ]
    },
    {
      "cell_type": "markdown",
      "metadata": {
        "id": "_4GlB8qRFIuu",
        "colab_type": "text"
      },
      "source": [
        "**Track Type**\n",
        " - Fix capitalization.\n",
        " - Group 'Expedite' and 'Expedited' into 'Expedite'."
      ]
    },
    {
      "cell_type": "code",
      "metadata": {
        "id": "AgJHDXsms5LT",
        "colab_type": "code",
        "outputId": "f4efd38a-4279-4ae3-af1c-e17370ccee12",
        "colab": {
          "base_uri": "https://localhost:8080/",
          "height": 49
        }
      },
      "source": [
        "df2['Track Type'].unique()"
      ],
      "execution_count": 99,
      "outputs": [
        {
          "output_type": "execute_result",
          "data": {
            "text/plain": [
              "array(['Complex', 'Simple', 'Expedite', 'Expedited', 'SImple'],\n",
              "      dtype=object)"
            ]
          },
          "metadata": {
            "tags": []
          },
          "execution_count": 99
        }
      ]
    },
    {
      "cell_type": "code",
      "metadata": {
        "id": "cYA_jbPezXAB",
        "colab_type": "code",
        "outputId": "217afb74-7721-43ed-d7fc-eb828ef82522",
        "colab": {
          "base_uri": "https://localhost:8080/",
          "height": 82
        }
      },
      "source": [
        "df2['Track Type'] = df2['Track Type'].replace({'SImple':'Simple', 'Expedited':'Expedite'})\n",
        "df2['Track Type'].value_counts()"
      ],
      "execution_count": 100,
      "outputs": [
        {
          "output_type": "execute_result",
          "data": {
            "text/plain": [
              "Simple      83439\n",
              "Complex     41161\n",
              "Expedite      543\n",
              "Name: Track Type, dtype: int64"
            ]
          },
          "metadata": {
            "tags": []
          },
          "execution_count": 100
        }
      ]
    },
    {
      "cell_type": "markdown",
      "metadata": {
        "id": "3mL6GC5rFqkD",
        "colab_type": "text"
      },
      "source": [
        "**Initial Request Type**\n",
        " - Remove agency specific classifications and any leading 'Initial '.\n",
        " - Clump 'Request' in with 'Consult'.\n",
        " - Group all 'Privacy Act'."
      ]
    },
    {
      "cell_type": "code",
      "metadata": {
        "id": "zOsr3haAzpjZ",
        "colab_type": "code",
        "outputId": "cda39321-875f-4471-b021-2c702745b6fe",
        "colab": {
          "base_uri": "https://localhost:8080/",
          "height": 131
        }
      },
      "source": [
        "df2['Initial Request Type'].unique()"
      ],
      "execution_count": 101,
      "outputs": [
        {
          "output_type": "execute_result",
          "data": {
            "text/plain": [
              "array(['OBIM FOIA', 'OBIM Consult', 'NPPD Consult', 'NPPD FOIA',\n",
              "       'NPPD Privacy Act', 'FEMA FOIA', 'FEMA Consult', 'Initial Request',\n",
              "       'Initial Consultation', 'ICE FOIA', 'ICE Consult', 'OIG Consult',\n",
              "       'OIG FOIA', 'OIG Privacy Act', 'HQ FOIA', 'HQ Consult', 'ST FOIA',\n",
              "       'ST Consult', 'TSA FOIA', 'TSA Privacy Act', 'TSA Consult',\n",
              "       'USCG FOIA', 'USCG Privacy Act', 'USCG Consult', 'FOIA', 'FOIA/PA',\n",
              "       'Consultation'], dtype=object)"
            ]
          },
          "metadata": {
            "tags": []
          },
          "execution_count": 101
        }
      ]
    },
    {
      "cell_type": "code",
      "metadata": {
        "id": "myal8jmO0haA",
        "colab_type": "code",
        "outputId": "ea7daaad-15da-4943-c612-d55fe3a2dc40",
        "colab": {
          "base_uri": "https://localhost:8080/",
          "height": 82
        }
      },
      "source": [
        "df2['Initial Request Type'] = df2['Initial Request Type'].str.replace('^([A-Z]+|Initial) |ation$', '')\n",
        "df2['Initial Request Type'] = df2['Initial Request Type'].replace({'Request':'Consult'})\n",
        "df2['Initial Request Type'] = df2['Initial Request Type'].replace({'FOIA/PA':'Privacy Act'})\n",
        "df2['Initial Request Type'].value_counts()"
      ],
      "execution_count": 102,
      "outputs": [
        {
          "output_type": "execute_result",
          "data": {
            "text/plain": [
              "FOIA           122284\n",
              "Privacy Act      1935\n",
              "Consult           924\n",
              "Name: Initial Request Type, dtype: int64"
            ]
          },
          "metadata": {
            "tags": []
          },
          "execution_count": 102
        }
      ]
    },
    {
      "cell_type": "markdown",
      "metadata": {
        "id": "24gP3WzEGiJz",
        "colab_type": "text"
      },
      "source": [
        "## Create some new columns categorizing the data by the fiscal year it was received."
      ]
    },
    {
      "cell_type": "code",
      "metadata": {
        "id": "mBcvcGSTv3TJ",
        "colab_type": "code",
        "colab": {}
      },
      "source": [
        "# fiscal_years will be a dictionary with years as keys whose values are another dictionary\n",
        "# with 'start' and 'end' as keys and pandas TimeStamps corresponding the start and end\n",
        "# of that fiscal year as values\n",
        "fiscal_years = {}\n",
        "min_year = min(df2['Initial Received Date']).year\n",
        "max_year = max(df2['Initial Received Date']).year + 1\n",
        "for year in range(min_year, max_year):\n",
        "  fiscal_years[year] = {\n",
        "      'start' : pd.Timestamp(str(year-1)+'-10-01 00:00:00'),\n",
        "      'end' : pd.Timestamp(str(year)+'-09-30 23:59:59')\n",
        "  }\n",
        "\n",
        "# returns the fiscal year of a TimeStamp based on the fiscal_years dictionary\n",
        "def fiscal_year(timestamp):\n",
        "  for year in fiscal_years:\n",
        "    if timestamp >= fiscal_years[year]['start'] and timestamp <= fiscal_years[year]['end']:\n",
        "      return year"
      ],
      "execution_count": 0,
      "outputs": []
    },
    {
      "cell_type": "code",
      "metadata": {
        "id": "11LOj3dIs4MP",
        "colab_type": "code",
        "outputId": "043664fc-12b7-4c35-e976-8da717154331",
        "colab": {
          "base_uri": "https://localhost:8080/",
          "height": 164
        }
      },
      "source": [
        "# use the fiscal_year() function to return just the fiscal year for a given 'Initial Received Date'\n",
        "df2['Fiscal Year Requested'] = df2['Initial Received Date'].apply(fiscal_year)\n",
        "df2['Fiscal Year Requested'].value_counts()"
      ],
      "execution_count": 104,
      "outputs": [
        {
          "output_type": "execute_result",
          "data": {
            "text/plain": [
              "2018    116683\n",
              "2017      6111\n",
              "2016      1110\n",
              "2015       704\n",
              "2014       349\n",
              "2013       127\n",
              "2012        52\n",
              "2011         7\n",
              "Name: Fiscal Year Requested, dtype: int64"
            ]
          },
          "metadata": {
            "tags": []
          },
          "execution_count": 104
        }
      ]
    },
    {
      "cell_type": "markdown",
      "metadata": {
        "id": "tBiYj1wXG9zz",
        "colab_type": "text"
      },
      "source": [
        "Whether or not a request was backlogged from previous years."
      ]
    },
    {
      "cell_type": "code",
      "metadata": {
        "id": "nCNk0vsBh1M3",
        "colab_type": "code",
        "outputId": "1b0ef860-e94e-45eb-9351-f5bd7b40c1a1",
        "colab": {
          "base_uri": "https://localhost:8080/",
          "height": 65
        }
      },
      "source": [
        "# use the newly created 'Fiscal Year Requested' column to determine if a request was backlogged from previous years\n",
        "df2['Backlogged Request'] = df2['Fiscal Year Requested'] < 2018\n",
        "df2['Backlogged Request'].value_counts()"
      ],
      "execution_count": 105,
      "outputs": [
        {
          "output_type": "execute_result",
          "data": {
            "text/plain": [
              "False    116683\n",
              "True       8460\n",
              "Name: Backlogged Request, dtype: int64"
            ]
          },
          "metadata": {
            "tags": []
          },
          "execution_count": 105
        }
      ]
    },
    {
      "cell_type": "markdown",
      "metadata": {
        "id": "ccmtHRm4HJd-",
        "colab_type": "text"
      },
      "source": [
        "## The new, slightly cleaner data.\n",
        "\n",
        "I didn't clean many NaN values because I ended up not needing to for the analysis I undertook."
      ]
    },
    {
      "cell_type": "code",
      "metadata": {
        "id": "jp1iE-bFwnQy",
        "colab_type": "code",
        "outputId": "e765e25e-bb98-4981-88e3-e11f14e972d5",
        "colab": {
          "base_uri": "https://localhost:8080/",
          "height": 541
        }
      },
      "source": [
        "df2"
      ],
      "execution_count": 106,
      "outputs": [
        {
          "output_type": "execute_result",
          "data": {
            "text/html": [
              "<div>\n",
              "<style scoped>\n",
              "    .dataframe tbody tr th:only-of-type {\n",
              "        vertical-align: middle;\n",
              "    }\n",
              "\n",
              "    .dataframe tbody tr th {\n",
              "        vertical-align: top;\n",
              "    }\n",
              "\n",
              "    .dataframe thead th {\n",
              "        text-align: right;\n",
              "    }\n",
              "</style>\n",
              "<table border=\"1\" class=\"dataframe\">\n",
              "  <thead>\n",
              "    <tr style=\"text-align: right;\">\n",
              "      <th></th>\n",
              "      <th>Agency</th>\n",
              "      <th>Initial Request Type</th>\n",
              "      <th>Track Type</th>\n",
              "      <th>Initial Received Date</th>\n",
              "      <th>Perfected</th>\n",
              "      <th>Case Status</th>\n",
              "      <th>Days Opened</th>\n",
              "      <th>Closed Date</th>\n",
              "      <th>Days to Process</th>\n",
              "      <th>Disposition</th>\n",
              "      <th>Disposition \"Other\" Reason</th>\n",
              "      <th>Exemptions Used</th>\n",
              "      <th>Fiscal Year Requested</th>\n",
              "      <th>Backlogged Request</th>\n",
              "    </tr>\n",
              "    <tr>\n",
              "      <th>Request #</th>\n",
              "      <th></th>\n",
              "      <th></th>\n",
              "      <th></th>\n",
              "      <th></th>\n",
              "      <th></th>\n",
              "      <th></th>\n",
              "      <th></th>\n",
              "      <th></th>\n",
              "      <th></th>\n",
              "      <th></th>\n",
              "      <th></th>\n",
              "      <th></th>\n",
              "      <th></th>\n",
              "      <th></th>\n",
              "    </tr>\n",
              "  </thead>\n",
              "  <tbody>\n",
              "    <tr>\n",
              "      <th>2017-OBFO-02364</th>\n",
              "      <td>CISA</td>\n",
              "      <td>FOIA</td>\n",
              "      <td>Complex</td>\n",
              "      <td>2016-11-04</td>\n",
              "      <td>NaT</td>\n",
              "      <td>Open</td>\n",
              "      <td>NaN</td>\n",
              "      <td>NaT</td>\n",
              "      <td>NaN</td>\n",
              "      <td>Unknown</td>\n",
              "      <td>NaN</td>\n",
              "      <td>NaN</td>\n",
              "      <td>2017</td>\n",
              "      <td>True</td>\n",
              "    </tr>\n",
              "    <tr>\n",
              "      <th>2017-OBFO-03060</th>\n",
              "      <td>CISA</td>\n",
              "      <td>FOIA</td>\n",
              "      <td>Complex</td>\n",
              "      <td>2016-10-21</td>\n",
              "      <td>NaT</td>\n",
              "      <td>Open</td>\n",
              "      <td>NaN</td>\n",
              "      <td>NaT</td>\n",
              "      <td>NaN</td>\n",
              "      <td>Unknown</td>\n",
              "      <td>NaN</td>\n",
              "      <td>NaN</td>\n",
              "      <td>2017</td>\n",
              "      <td>True</td>\n",
              "    </tr>\n",
              "    <tr>\n",
              "      <th>2017-OBFO-03260</th>\n",
              "      <td>CISA</td>\n",
              "      <td>FOIA</td>\n",
              "      <td>Simple</td>\n",
              "      <td>2016-11-28</td>\n",
              "      <td>NaT</td>\n",
              "      <td>Closed</td>\n",
              "      <td>NaN</td>\n",
              "      <td>2018-01-29</td>\n",
              "      <td>NaN</td>\n",
              "      <td>Other Reasons</td>\n",
              "      <td>NaN</td>\n",
              "      <td>NaN</td>\n",
              "      <td>2017</td>\n",
              "      <td>True</td>\n",
              "    </tr>\n",
              "    <tr>\n",
              "      <th>2017-OBFO-03857</th>\n",
              "      <td>CISA</td>\n",
              "      <td>FOIA</td>\n",
              "      <td>Complex</td>\n",
              "      <td>2016-12-07</td>\n",
              "      <td>NaT</td>\n",
              "      <td>Closed</td>\n",
              "      <td>NaN</td>\n",
              "      <td>2017-10-23</td>\n",
              "      <td>NaN</td>\n",
              "      <td>Granted/Denied in Part</td>\n",
              "      <td>(b)(6),(b)(7)(C),(b)(7)(E),(k)(2)</td>\n",
              "      <td>NaN</td>\n",
              "      <td>2017</td>\n",
              "      <td>True</td>\n",
              "    </tr>\n",
              "    <tr>\n",
              "      <th>2017-OBFO-02413</th>\n",
              "      <td>CISA</td>\n",
              "      <td>FOIA</td>\n",
              "      <td>Complex</td>\n",
              "      <td>2016-11-03</td>\n",
              "      <td>NaT</td>\n",
              "      <td>Open</td>\n",
              "      <td>NaN</td>\n",
              "      <td>NaT</td>\n",
              "      <td>NaN</td>\n",
              "      <td>Unknown</td>\n",
              "      <td>NaN</td>\n",
              "      <td>NaN</td>\n",
              "      <td>2017</td>\n",
              "      <td>True</td>\n",
              "    </tr>\n",
              "    <tr>\n",
              "      <th>...</th>\n",
              "      <td>...</td>\n",
              "      <td>...</td>\n",
              "      <td>...</td>\n",
              "      <td>...</td>\n",
              "      <td>...</td>\n",
              "      <td>...</td>\n",
              "      <td>...</td>\n",
              "      <td>...</td>\n",
              "      <td>...</td>\n",
              "      <td>...</td>\n",
              "      <td>...</td>\n",
              "      <td>...</td>\n",
              "      <td>...</td>\n",
              "      <td>...</td>\n",
              "    </tr>\n",
              "    <tr>\n",
              "      <th>20181461</th>\n",
              "      <td>USSS</td>\n",
              "      <td>FOIA</td>\n",
              "      <td>Simple</td>\n",
              "      <td>2018-09-24</td>\n",
              "      <td>2018-09-24</td>\n",
              "      <td>Open</td>\n",
              "      <td>4.0</td>\n",
              "      <td>NaT</td>\n",
              "      <td>NaN</td>\n",
              "      <td>Unknown</td>\n",
              "      <td>NaN</td>\n",
              "      <td>NaN</td>\n",
              "      <td>2018</td>\n",
              "      <td>False</td>\n",
              "    </tr>\n",
              "    <tr>\n",
              "      <th>20181462</th>\n",
              "      <td>USSS</td>\n",
              "      <td>Privacy Act</td>\n",
              "      <td>Simple</td>\n",
              "      <td>2018-09-24</td>\n",
              "      <td>2018-09-24</td>\n",
              "      <td>Open</td>\n",
              "      <td>4.0</td>\n",
              "      <td>NaT</td>\n",
              "      <td>NaN</td>\n",
              "      <td>Unknown</td>\n",
              "      <td>NaN</td>\n",
              "      <td>NaN</td>\n",
              "      <td>2018</td>\n",
              "      <td>False</td>\n",
              "    </tr>\n",
              "    <tr>\n",
              "      <th>20181463</th>\n",
              "      <td>USSS</td>\n",
              "      <td>Privacy Act</td>\n",
              "      <td>Simple</td>\n",
              "      <td>2018-09-27</td>\n",
              "      <td>2018-09-27</td>\n",
              "      <td>Open</td>\n",
              "      <td>1.0</td>\n",
              "      <td>NaT</td>\n",
              "      <td>NaN</td>\n",
              "      <td>Unknown</td>\n",
              "      <td>NaN</td>\n",
              "      <td>NaN</td>\n",
              "      <td>2018</td>\n",
              "      <td>False</td>\n",
              "    </tr>\n",
              "    <tr>\n",
              "      <th>20181464</th>\n",
              "      <td>USSS</td>\n",
              "      <td>Privacy Act</td>\n",
              "      <td>Simple</td>\n",
              "      <td>2018-09-27</td>\n",
              "      <td>2018-09-27</td>\n",
              "      <td>Open</td>\n",
              "      <td>1.0</td>\n",
              "      <td>NaT</td>\n",
              "      <td>NaN</td>\n",
              "      <td>Unknown</td>\n",
              "      <td>NaN</td>\n",
              "      <td>NaN</td>\n",
              "      <td>2018</td>\n",
              "      <td>False</td>\n",
              "    </tr>\n",
              "    <tr>\n",
              "      <th>20181465</th>\n",
              "      <td>USSS</td>\n",
              "      <td>FOIA</td>\n",
              "      <td>Simple</td>\n",
              "      <td>2018-09-27</td>\n",
              "      <td>2018-09-27</td>\n",
              "      <td>Open</td>\n",
              "      <td>1.0</td>\n",
              "      <td>NaT</td>\n",
              "      <td>NaN</td>\n",
              "      <td>Unknown</td>\n",
              "      <td>NaN</td>\n",
              "      <td>NaN</td>\n",
              "      <td>2018</td>\n",
              "      <td>False</td>\n",
              "    </tr>\n",
              "  </tbody>\n",
              "</table>\n",
              "<p>125143 rows × 14 columns</p>\n",
              "</div>"
            ],
            "text/plain": [
              "                Agency  ... Backlogged Request\n",
              "Request #               ...                   \n",
              "2017-OBFO-02364   CISA  ...               True\n",
              "2017-OBFO-03060   CISA  ...               True\n",
              "2017-OBFO-03260   CISA  ...               True\n",
              "2017-OBFO-03857   CISA  ...               True\n",
              "2017-OBFO-02413   CISA  ...               True\n",
              "...                ...  ...                ...\n",
              "20181461          USSS  ...              False\n",
              "20181462          USSS  ...              False\n",
              "20181463          USSS  ...              False\n",
              "20181464          USSS  ...              False\n",
              "20181465          USSS  ...              False\n",
              "\n",
              "[125143 rows x 14 columns]"
            ]
          },
          "metadata": {
            "tags": []
          },
          "execution_count": 106
        }
      ]
    },
    {
      "cell_type": "markdown",
      "metadata": {
        "id": "b43BGZLjHb4d",
        "colab_type": "text"
      },
      "source": [
        "# Analyze the data"
      ]
    },
    {
      "cell_type": "markdown",
      "metadata": {
        "id": "of3OqT8NH6Ig",
        "colab_type": "text"
      },
      "source": [
        "## Create a new dataframe containing only the information I will be processing"
      ]
    },
    {
      "cell_type": "code",
      "metadata": {
        "id": "eq18-X6W0IaK",
        "colab_type": "code",
        "outputId": "f7d51c3f-3c55-468e-d18e-0d8062538656",
        "colab": {
          "base_uri": "https://localhost:8080/",
          "height": 442
        }
      },
      "source": [
        "columns_to_drop = ['Initial Request Type', 'Track Type', 'Initial Received Date', 'Perfected', 'Days Opened',\n",
        "                   'Closed Date', 'Days to Process', 'Disposition', 'Disposition \"Other\" Reason', 'Exemptions Used']\n",
        "df3 = df2.copy()\n",
        "df3.drop(columns_to_drop, axis=1, inplace=True)\n",
        "df3"
      ],
      "execution_count": 107,
      "outputs": [
        {
          "output_type": "execute_result",
          "data": {
            "text/html": [
              "<div>\n",
              "<style scoped>\n",
              "    .dataframe tbody tr th:only-of-type {\n",
              "        vertical-align: middle;\n",
              "    }\n",
              "\n",
              "    .dataframe tbody tr th {\n",
              "        vertical-align: top;\n",
              "    }\n",
              "\n",
              "    .dataframe thead th {\n",
              "        text-align: right;\n",
              "    }\n",
              "</style>\n",
              "<table border=\"1\" class=\"dataframe\">\n",
              "  <thead>\n",
              "    <tr style=\"text-align: right;\">\n",
              "      <th></th>\n",
              "      <th>Agency</th>\n",
              "      <th>Case Status</th>\n",
              "      <th>Fiscal Year Requested</th>\n",
              "      <th>Backlogged Request</th>\n",
              "    </tr>\n",
              "    <tr>\n",
              "      <th>Request #</th>\n",
              "      <th></th>\n",
              "      <th></th>\n",
              "      <th></th>\n",
              "      <th></th>\n",
              "    </tr>\n",
              "  </thead>\n",
              "  <tbody>\n",
              "    <tr>\n",
              "      <th>2017-OBFO-02364</th>\n",
              "      <td>CISA</td>\n",
              "      <td>Open</td>\n",
              "      <td>2017</td>\n",
              "      <td>True</td>\n",
              "    </tr>\n",
              "    <tr>\n",
              "      <th>2017-OBFO-03060</th>\n",
              "      <td>CISA</td>\n",
              "      <td>Open</td>\n",
              "      <td>2017</td>\n",
              "      <td>True</td>\n",
              "    </tr>\n",
              "    <tr>\n",
              "      <th>2017-OBFO-03260</th>\n",
              "      <td>CISA</td>\n",
              "      <td>Closed</td>\n",
              "      <td>2017</td>\n",
              "      <td>True</td>\n",
              "    </tr>\n",
              "    <tr>\n",
              "      <th>2017-OBFO-03857</th>\n",
              "      <td>CISA</td>\n",
              "      <td>Closed</td>\n",
              "      <td>2017</td>\n",
              "      <td>True</td>\n",
              "    </tr>\n",
              "    <tr>\n",
              "      <th>2017-OBFO-02413</th>\n",
              "      <td>CISA</td>\n",
              "      <td>Open</td>\n",
              "      <td>2017</td>\n",
              "      <td>True</td>\n",
              "    </tr>\n",
              "    <tr>\n",
              "      <th>...</th>\n",
              "      <td>...</td>\n",
              "      <td>...</td>\n",
              "      <td>...</td>\n",
              "      <td>...</td>\n",
              "    </tr>\n",
              "    <tr>\n",
              "      <th>20181461</th>\n",
              "      <td>USSS</td>\n",
              "      <td>Open</td>\n",
              "      <td>2018</td>\n",
              "      <td>False</td>\n",
              "    </tr>\n",
              "    <tr>\n",
              "      <th>20181462</th>\n",
              "      <td>USSS</td>\n",
              "      <td>Open</td>\n",
              "      <td>2018</td>\n",
              "      <td>False</td>\n",
              "    </tr>\n",
              "    <tr>\n",
              "      <th>20181463</th>\n",
              "      <td>USSS</td>\n",
              "      <td>Open</td>\n",
              "      <td>2018</td>\n",
              "      <td>False</td>\n",
              "    </tr>\n",
              "    <tr>\n",
              "      <th>20181464</th>\n",
              "      <td>USSS</td>\n",
              "      <td>Open</td>\n",
              "      <td>2018</td>\n",
              "      <td>False</td>\n",
              "    </tr>\n",
              "    <tr>\n",
              "      <th>20181465</th>\n",
              "      <td>USSS</td>\n",
              "      <td>Open</td>\n",
              "      <td>2018</td>\n",
              "      <td>False</td>\n",
              "    </tr>\n",
              "  </tbody>\n",
              "</table>\n",
              "<p>125143 rows × 4 columns</p>\n",
              "</div>"
            ],
            "text/plain": [
              "                Agency Case Status  Fiscal Year Requested  Backlogged Request\n",
              "Request #                                                                    \n",
              "2017-OBFO-02364   CISA        Open                   2017                True\n",
              "2017-OBFO-03060   CISA        Open                   2017                True\n",
              "2017-OBFO-03260   CISA      Closed                   2017                True\n",
              "2017-OBFO-03857   CISA      Closed                   2017                True\n",
              "2017-OBFO-02413   CISA        Open                   2017                True\n",
              "...                ...         ...                    ...                 ...\n",
              "20181461          USSS        Open                   2018               False\n",
              "20181462          USSS        Open                   2018               False\n",
              "20181463          USSS        Open                   2018               False\n",
              "20181464          USSS        Open                   2018               False\n",
              "20181465          USSS        Open                   2018               False\n",
              "\n",
              "[125143 rows x 4 columns]"
            ]
          },
          "metadata": {
            "tags": []
          },
          "execution_count": 107
        }
      ]
    },
    {
      "cell_type": "markdown",
      "metadata": {
        "id": "MNeoi5BNIbsM",
        "colab_type": "text"
      },
      "source": [
        "## Calculate and plot the case status per agency"
      ]
    },
    {
      "cell_type": "code",
      "metadata": {
        "id": "g58YFGRY0op3",
        "colab_type": "code",
        "outputId": "13cbd7bd-b19c-4201-ac70-09e3d6e98ce6",
        "colab": {
          "base_uri": "https://localhost:8080/",
          "height": 383
        }
      },
      "source": [
        "df_case_status_by_agency = pd.crosstab(df3['Agency'], df3['Case Status'], margins=True, margins_name='Total')\n",
        "df_case_status_by_agency = df_case_status_by_agency.drop('Total')\n",
        "df_case_status_by_agency = df_case_status_by_agency[['Closed', 'Open', 'On Hold', 'Total']]\n",
        "df_case_status_by_agency"
      ],
      "execution_count": 108,
      "outputs": [
        {
          "output_type": "execute_result",
          "data": {
            "text/html": [
              "<div>\n",
              "<style scoped>\n",
              "    .dataframe tbody tr th:only-of-type {\n",
              "        vertical-align: middle;\n",
              "    }\n",
              "\n",
              "    .dataframe tbody tr th {\n",
              "        vertical-align: top;\n",
              "    }\n",
              "\n",
              "    .dataframe thead th {\n",
              "        text-align: right;\n",
              "    }\n",
              "</style>\n",
              "<table border=\"1\" class=\"dataframe\">\n",
              "  <thead>\n",
              "    <tr style=\"text-align: right;\">\n",
              "      <th>Case Status</th>\n",
              "      <th>Closed</th>\n",
              "      <th>Open</th>\n",
              "      <th>On Hold</th>\n",
              "      <th>Total</th>\n",
              "    </tr>\n",
              "    <tr>\n",
              "      <th>Agency</th>\n",
              "      <th></th>\n",
              "      <th></th>\n",
              "      <th></th>\n",
              "      <th></th>\n",
              "    </tr>\n",
              "  </thead>\n",
              "  <tbody>\n",
              "    <tr>\n",
              "      <th>CISA</th>\n",
              "      <td>38055</td>\n",
              "      <td>1808</td>\n",
              "      <td>320</td>\n",
              "      <td>40183</td>\n",
              "    </tr>\n",
              "    <tr>\n",
              "      <th>FEMA</th>\n",
              "      <td>1401</td>\n",
              "      <td>266</td>\n",
              "      <td>11</td>\n",
              "      <td>1678</td>\n",
              "    </tr>\n",
              "    <tr>\n",
              "      <th>I&amp;A</th>\n",
              "      <td>16</td>\n",
              "      <td>348</td>\n",
              "      <td>0</td>\n",
              "      <td>364</td>\n",
              "    </tr>\n",
              "    <tr>\n",
              "      <th>ICE</th>\n",
              "      <td>67477</td>\n",
              "      <td>3532</td>\n",
              "      <td>190</td>\n",
              "      <td>71199</td>\n",
              "    </tr>\n",
              "    <tr>\n",
              "      <th>OIG</th>\n",
              "      <td>238</td>\n",
              "      <td>188</td>\n",
              "      <td>0</td>\n",
              "      <td>426</td>\n",
              "    </tr>\n",
              "    <tr>\n",
              "      <th>PRIV</th>\n",
              "      <td>1482</td>\n",
              "      <td>577</td>\n",
              "      <td>22</td>\n",
              "      <td>2081</td>\n",
              "    </tr>\n",
              "    <tr>\n",
              "      <th>S&amp;T</th>\n",
              "      <td>168</td>\n",
              "      <td>33</td>\n",
              "      <td>4</td>\n",
              "      <td>205</td>\n",
              "    </tr>\n",
              "    <tr>\n",
              "      <th>TSA</th>\n",
              "      <td>882</td>\n",
              "      <td>845</td>\n",
              "      <td>2</td>\n",
              "      <td>1729</td>\n",
              "    </tr>\n",
              "    <tr>\n",
              "      <th>USCG</th>\n",
              "      <td>2588</td>\n",
              "      <td>1938</td>\n",
              "      <td>36</td>\n",
              "      <td>4562</td>\n",
              "    </tr>\n",
              "    <tr>\n",
              "      <th>USSS</th>\n",
              "      <td>1321</td>\n",
              "      <td>1395</td>\n",
              "      <td>0</td>\n",
              "      <td>2716</td>\n",
              "    </tr>\n",
              "  </tbody>\n",
              "</table>\n",
              "</div>"
            ],
            "text/plain": [
              "Case Status  Closed  Open  On Hold  Total\n",
              "Agency                                   \n",
              "CISA          38055  1808      320  40183\n",
              "FEMA           1401   266       11   1678\n",
              "I&A              16   348        0    364\n",
              "ICE           67477  3532      190  71199\n",
              "OIG             238   188        0    426\n",
              "PRIV           1482   577       22   2081\n",
              "S&T             168    33        4    205\n",
              "TSA             882   845        2   1729\n",
              "USCG           2588  1938       36   4562\n",
              "USSS           1321  1395        0   2716"
            ]
          },
          "metadata": {
            "tags": []
          },
          "execution_count": 108
        }
      ]
    },
    {
      "cell_type": "markdown",
      "metadata": {
        "id": "4q1Zd5rOSXei",
        "colab_type": "text"
      },
      "source": [
        "Adapted from Chris Albon's [Stacked Percentage Bar Plot in MatPlotLib](https://chrisalbon.com/python/data_visualization/matplotlib_percentage_stacked_bar_plot/)."
      ]
    },
    {
      "cell_type": "code",
      "metadata": {
        "id": "8CF1JYUJ1HVt",
        "colab_type": "code",
        "outputId": "0d79694f-308f-486c-941a-1858fda8ba76",
        "colab": {
          "base_uri": "https://localhost:8080/",
          "height": 354
        }
      },
      "source": [
        "fig, ax = plt.subplots(nrows=1, ncols=1, figsize=(10, 5))\n",
        "plt.title('Case Status Percentages by Agency', fontsize=16, fontweight='bold')\n",
        "plt.ylabel('Percentage')\n",
        "\n",
        "bar_width = 1\n",
        "positions = [i for i in range(len(df_case_status_by_agency))]\n",
        "percentages = {}\n",
        "bottoms = {}\n",
        "bars = {}\n",
        "colors = {\n",
        "    'Closed':'#D83327',\n",
        "    'Open':'#2A76AF',\n",
        "    'On Hold':'#8678CB',\n",
        "}\n",
        "for status in colors.keys():\n",
        "  percentages[status] = [i/j*100 for i, j in zip(df_case_status_by_agency[status], df_case_status_by_agency['Total'])]\n",
        "\n",
        "bottoms['Closed'] = [0] * len(df_case_status_by_agency)\n",
        "bottoms['Open'] = percentages['Closed']\n",
        "bottoms['On Hold'] = list(np.add(percentages['Closed'], percentages['Open']))\n",
        "\n",
        "for status in percentages.keys():\n",
        "  bars[status] = ax.bar(positions, percentages[status], bottom=bottoms[status], width=bar_width, label=status, color=colors[status], edgecolor='black')\n",
        "\n",
        "plt.xticks(positions, df_case_status_by_agency.index)\n",
        "plt.setp(plt.gca().get_xticklabels(), rotation=45, horizontalalignment='right')\n",
        "\n",
        "plt.legend(bars.values(), bars.keys(), loc='lower right', edgecolor='black', framealpha=0.7)\n",
        "\n",
        "plt.ylim((0, 100))\n",
        "plt.xlim((-.5, 9.5))\n",
        "\n",
        "plt.axhline(y=50, color='yellow')\n",
        "plt.yticks([0, 20, 40, 50, 60, 80, 100])\n",
        "\n",
        "plt.show()"
      ],
      "execution_count": 109,
      "outputs": [
        {
          "output_type": "display_data",
          "data": {
            "image/png": "[encoded data removed]",
            "text/plain": [
              "<Figure size 720x360 with 1 Axes>"
            ]
          },
          "metadata": {
            "tags": []
          }
        }
      ]
    },
    {
      "cell_type": "markdown",
      "metadata": {
        "id": "wqUcsrrwLFUV",
        "colab_type": "text"
      },
      "source": [
        "## Calculate and plot case status counts by fiscal year of initial request for each agency"
      ]
    },
    {
      "cell_type": "code",
      "metadata": {
        "id": "kvGQlt3aI0fM",
        "colab_type": "code",
        "outputId": "bbf191fa-da36-413b-b0cb-21e9fb37d02f",
        "colab": {
          "base_uri": "https://localhost:8080/",
          "height": 1000
        }
      },
      "source": [
        "# caluculate the number of rows we need based on desired number of columns\n",
        "# and how many plots we will be making\n",
        "ncols = 3\n",
        "nrows = len(df3['Agency'].unique()) // ncols\n",
        "if len(df3['Agency'].unique()) % ncols > 0:\n",
        "  nrows += 1\n",
        "\n",
        "# plot_index is an iterator to move through the plots\n",
        "plot_index = iter([(i, j) for i in range(nrows) for j in range(ncols)])\n",
        "\n",
        "fig, plots = plt.subplots(nrows=nrows, ncols=ncols, figsize=(22,18))\n",
        "#fig.suptitle('Case Status Counts by Fiscal Year of Initial Request' , fontsize=16)\n",
        "\n",
        "for agency, df_agency in df3.groupby(by='Agency'):\n",
        "  pi = next(plot_index)\n",
        "  ax = plots[pi]\n",
        "  df_case_status_by_fiscal_year = pd.crosstab(df_agency['Fiscal Year Requested'], df_agency['Case Status'])\n",
        "\n",
        "  # some agencies have no requests in an 'On Hold' status\n",
        "  # for those that do, rearrange the columns so 'On Hold' is the last one\n",
        "  # to maintain the same colors per status on each chart\n",
        "  if 'On Hold' in df_case_status_by_fiscal_year.columns:\n",
        "    df_case_status_by_fiscal_year = df_case_status_by_fiscal_year[['Closed', 'Open', 'On Hold']]\n",
        "\n",
        "  df_case_status_by_fiscal_year.plot.barh(ax=ax)\n",
        "  ax.set_title(agencies[agency])\n",
        "  ax.legend(loc='lower right')\n",
        "\n",
        "  # use the plot_index to remove the 'Fiscal Year Requested' label\n",
        "  # on the plots that are not to the left side of the figure (column > 0)\n",
        "  if pi[1] > 0:\n",
        "    ax.set_ylabel(None)\n",
        "\n",
        "plt.show()"
      ],
      "execution_count": 118,
      "outputs": [
        {
          "output_type": "display_data",
          "data": {
            "image/png": "[encoded data removed]",
            "text/plain": [
              "<Figure size 1584x1296 with 12 Axes>"
            ]
          },
          "metadata": {
            "tags": []
          }
        }
      ]
    },
    {
      "cell_type": "code",
      "metadata": {
        "id": "U9cfrd1s1-cC",
        "colab_type": "code",
        "outputId": "274313f6-e935-4626-c5d9-4db3844b2bcc",
        "colab": {
          "base_uri": "https://localhost:8080/",
          "height": 1000
        }
      },
      "source": [
        "# Dump the actual numbers used for the above plots\n",
        "\n",
        "for agency, df_grouped in df3.groupby(by='Agency'):\n",
        "  print('\\n'+agencies[agency])\n",
        "  df_grouped_status_by_year = pd.crosstab(df_grouped['Fiscal Year Requested'], df_grouped['Case Status'])\n",
        "\n",
        "  # some agencies have no requests in an 'On Hold' status\n",
        "  # for those that do, rearrange the columns so 'On Hold' is the last one\n",
        "  if 'On Hold' in df_grouped_status_by_year.columns:\n",
        "    df_grouped_status_by_year = df_grouped_status_by_year[['Closed', 'Open', 'On Hold']]\n",
        "\n",
        "  print(df_grouped_status_by_year)"
      ],
      "execution_count": 111,
      "outputs": [
        {
          "output_type": "stream",
          "text": [
            "\n",
            "Cybersecurity and Infrastructure Security Agency\n",
            "Case Status            Closed  Open  On Hold\n",
            "Fiscal Year Requested                       \n",
            "2015                       12     0        0\n",
            "2016                       63     7        0\n",
            "2017                     2341    89        1\n",
            "2018                    35639  1712      319\n",
            "\n",
            "Federal Emergency Management Agency\n",
            "Case Status            Closed  Open  On Hold\n",
            "Fiscal Year Requested                       \n",
            "2013                        2     0        0\n",
            "2014                       16     1        0\n",
            "2015                       24     1        0\n",
            "2016                      105     6        0\n",
            "2017                      331    32        0\n",
            "2018                      923   226       11\n",
            "\n",
            "Office of Intelligence and Analysis\n",
            "Case Status            Closed  Open\n",
            "Fiscal Year Requested              \n",
            "2016                        1     2\n",
            "2017                        4    22\n",
            "2018                       11   324\n",
            "\n",
            "U.S. Immigration and Customs Enforcement\n",
            "Case Status            Closed  Open  On Hold\n",
            "Fiscal Year Requested                       \n",
            "2013                        1     1        0\n",
            "2014                        4     0        0\n",
            "2015                        7     1        0\n",
            "2016                       14     0        0\n",
            "2017                      761   154        0\n",
            "2018                    66690  3376      190\n",
            "\n",
            "Office of Inspector General\n",
            "Case Status            Closed  Open\n",
            "Fiscal Year Requested              \n",
            "2014                        3     0\n",
            "2015                        9     9\n",
            "2016                       11     7\n",
            "2017                       46    37\n",
            "2018                      169   135\n",
            "\n",
            "Privacy Office\n",
            "Case Status            Closed  Open  On Hold\n",
            "Fiscal Year Requested                       \n",
            "2015                        1     1        0\n",
            "2016                       23    19        0\n",
            "2017                      341   197        0\n",
            "2018                     1117   360       22\n",
            "\n",
            "Science and Technology Directorate\n",
            "Case Status            Closed  Open  On Hold\n",
            "Fiscal Year Requested                       \n",
            "2017                       10     0        0\n",
            "2018                      158    33        4\n",
            "\n",
            "Transportation Security Administration\n",
            "Case Status            Closed  Open  On Hold\n",
            "Fiscal Year Requested                       \n",
            "2012                        6     0        0\n",
            "2013                       13     4        0\n",
            "2014                        9    46        0\n",
            "2015                       13    70        0\n",
            "2016                       54   173        0\n",
            "2017                      167   144        0\n",
            "2018                      620   408        2\n",
            "\n",
            "United States Coast Guard\n",
            "Case Status            Closed  Open  On Hold\n",
            "Fiscal Year Requested                       \n",
            "2011                        1     6        0\n",
            "2012                        9    23        0\n",
            "2013                       24    48        0\n",
            "2014                       58   161        0\n",
            "2015                      205   197        3\n",
            "2016                      208   166        2\n",
            "2017                      303   373        4\n",
            "2018                     1780   964       27\n",
            "\n",
            "United States Secret Service\n",
            "Case Status            Closed  Open\n",
            "Fiscal Year Requested              \n",
            "2012                       12     2\n",
            "2013                        4    30\n",
            "2014                        8    43\n",
            "2015                       37   114\n",
            "2016                       69   180\n",
            "2017                      407   347\n",
            "2018                      784   679\n"
          ],
          "name": "stdout"
        }
      ]
    },
    {
      "cell_type": "markdown",
      "metadata": {
        "id": "AqTNgVSSL7LA",
        "colab_type": "text"
      },
      "source": [
        "## Run a $\\chi^2$ test to see is there is a dependency between a request being backlogged and the case status\n",
        "\n",
        "- null hypothesis: 'case status' and 'backlogged request' are independent\n",
        "- alternate hypothesis: 'case status' and 'backlogged request' are independent\n",
        "- confidence level: 95%"
      ]
    },
    {
      "cell_type": "code",
      "metadata": {
        "id": "3VoHwcq-sqEl",
        "colab_type": "code",
        "colab": {}
      },
      "source": [
        "# runs a chi-squared test on two columns of data by\n",
        "# creating a contingency table and using scipy.stats to run the test\n",
        "# returns a dictionary with named keys for the return values\n",
        "def chi2(column1, column2):\n",
        "  observed = pd.crosstab(column1, column2, dropna=True)\n",
        "  result = stats.chi2_contingency(observed)\n",
        "  ret_values = ['chi-squared', 'p-value', 'dof', 'expected']\n",
        "  return {k:v for k, v in zip(ret_values, result)}"
      ],
      "execution_count": 0,
      "outputs": []
    },
    {
      "cell_type": "code",
      "metadata": {
        "id": "nM1S72ti86_S",
        "colab_type": "code",
        "outputId": "2d3a1791-5122-4695-d44f-3b4caf7f9897",
        "colab": {
          "base_uri": "https://localhost:8080/",
          "height": 170
        }
      },
      "source": [
        "# take a look at the contingency table\n",
        "pd.crosstab(df3['Case Status'], df3['Backlogged Request'])"
      ],
      "execution_count": 114,
      "outputs": [
        {
          "output_type": "execute_result",
          "data": {
            "text/html": [
              "<div>\n",
              "<style scoped>\n",
              "    .dataframe tbody tr th:only-of-type {\n",
              "        vertical-align: middle;\n",
              "    }\n",
              "\n",
              "    .dataframe tbody tr th {\n",
              "        vertical-align: top;\n",
              "    }\n",
              "\n",
              "    .dataframe thead th {\n",
              "        text-align: right;\n",
              "    }\n",
              "</style>\n",
              "<table border=\"1\" class=\"dataframe\">\n",
              "  <thead>\n",
              "    <tr style=\"text-align: right;\">\n",
              "      <th>Backlogged Request</th>\n",
              "      <th>False</th>\n",
              "      <th>True</th>\n",
              "    </tr>\n",
              "    <tr>\n",
              "      <th>Case Status</th>\n",
              "      <th></th>\n",
              "      <th></th>\n",
              "    </tr>\n",
              "  </thead>\n",
              "  <tbody>\n",
              "    <tr>\n",
              "      <th>Closed</th>\n",
              "      <td>107891</td>\n",
              "      <td>5737</td>\n",
              "    </tr>\n",
              "    <tr>\n",
              "      <th>On Hold</th>\n",
              "      <td>575</td>\n",
              "      <td>10</td>\n",
              "    </tr>\n",
              "    <tr>\n",
              "      <th>Open</th>\n",
              "      <td>8217</td>\n",
              "      <td>2713</td>\n",
              "    </tr>\n",
              "  </tbody>\n",
              "</table>\n",
              "</div>"
            ],
            "text/plain": [
              "Backlogged Request   False  True \n",
              "Case Status                      \n",
              "Closed              107891   5737\n",
              "On Hold                575     10\n",
              "Open                  8217   2713"
            ]
          },
          "metadata": {
            "tags": []
          },
          "execution_count": 114
        }
      ]
    },
    {
      "cell_type": "code",
      "metadata": {
        "id": "u0qjzy2vH5vc",
        "colab_type": "code",
        "outputId": "f2b7a77a-4bce-4af2-cff3-078f755b72fe",
        "colab": {
          "base_uri": "https://localhost:8080/",
          "height": 115
        }
      },
      "source": [
        "chi2(df3['Case Status'], df3['Backlogged Request'])"
      ],
      "execution_count": 116,
      "outputs": [
        {
          "output_type": "execute_result",
          "data": {
            "text/plain": [
              "{'chi-squared': 6208.212370170039,\n",
              " 'dof': 2,\n",
              " 'expected': array([[1.05946445e+05, 7.68155534e+03],\n",
              "        [5.45452442e+02, 3.95475576e+01],\n",
              "        [1.01911029e+04, 7.38897102e+02]]),\n",
              " 'p-value': 0.0}"
            ]
          },
          "metadata": {
            "tags": []
          },
          "execution_count": 116
        }
      ]
    },
    {
      "cell_type": "markdown",
      "metadata": {
        "id": "oVIvp9l7QAk3",
        "colab_type": "text"
      },
      "source": [
        "**Result:**\n",
        " - due to a p-value of 0, i reject the null hypothesis that these variables are independent and suggest that there is a dependece between 'case status' and 'backlogged request'\n",
        " - what that dependence is remains to be discovered through further analysis"
      ]
    }
  ]
}